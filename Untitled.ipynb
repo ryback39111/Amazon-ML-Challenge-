{
 "cells": [
  {
   "cell_type": "code",
   "execution_count": 2,
   "id": "7eab242b",
   "metadata": {},
   "outputs": [],
   "source": [
    "import numpy as np\n",
    "import pandas as pd\n",
    "import csv\n",
    "import seaborn as sns\n",
    "import matplotlib.pyplot as plt\n",
    "import xgboost as xgb\n",
    "from sklearn.model_selection import train_test_split\n",
    "from sklearn.metrics import mean_absolute_error, mean_absolute_percentage_error"
   ]
  },
  {
   "cell_type": "code",
   "execution_count": 3,
   "id": "d475fbaf",
   "metadata": {},
   "outputs": [
    {
     "name": "stdout",
     "output_type": "stream",
     "text": [
      "<class 'pandas.core.frame.DataFrame'>\n",
      "RangeIndex: 1968134 entries, 0 to 1968133\n",
      "Data columns (total 6 columns):\n",
      " #   Column           Dtype  \n",
      "---  ------           -----  \n",
      " 0   PRODUCT_ID       int64  \n",
      " 1   TITLE            object \n",
      " 2   BULLET_POINTS    object \n",
      " 3   DESCRIPTION      object \n",
      " 4   PRODUCT_TYPE_ID  int64  \n",
      " 5   PRODUCT_LENGTH   float64\n",
      "dtypes: float64(1), int64(2), object(3)\n",
      "memory usage: 90.1+ MB\n"
     ]
    }
   ],
   "source": [
    "df = pd.read_csv(\"train.csv\", encoding = 'iso-8859-1')\n",
    "\n",
    "df.info()"
   ]
  },
  {
   "cell_type": "code",
   "execution_count": 4,
   "id": "07566282",
   "metadata": {},
   "outputs": [
    {
     "data": {
      "text/plain": [
       "PRODUCT_ID         0\n",
       "TITLE              0\n",
       "BULLET_POINTS      0\n",
       "DESCRIPTION        0\n",
       "PRODUCT_TYPE_ID    0\n",
       "PRODUCT_LENGTH     0\n",
       "dtype: int64"
      ]
     },
     "execution_count": 4,
     "metadata": {},
     "output_type": "execute_result"
    }
   ],
   "source": [
    "df.isnull().sum()"
   ]
  },
  {
   "cell_type": "code",
   "execution_count": null,
   "id": "72ca963f",
   "metadata": {},
   "outputs": [],
   "source": []
  },
  {
   "cell_type": "code",
   "execution_count": 5,
   "id": "81967d94",
   "metadata": {},
   "outputs": [
    {
     "name": "stdout",
     "output_type": "stream",
     "text": [
      "<class 'pandas.core.frame.DataFrame'>\n",
      "RangeIndex: 1968134 entries, 0 to 1968133\n",
      "Data columns (total 6 columns):\n",
      " #   Column           Dtype  \n",
      "---  ------           -----  \n",
      " 0   PRODUCT_ID       int64  \n",
      " 1   TITLE            object \n",
      " 2   BULLET_POINTS    object \n",
      " 3   DESCRIPTION      object \n",
      " 4   PRODUCT_TYPE_ID  int64  \n",
      " 5   PRODUCT_LENGTH   float64\n",
      "dtypes: float64(1), int64(2), object(3)\n",
      "memory usage: 90.1+ MB\n"
     ]
    }
   ],
   "source": [
    "df.info()"
   ]
  },
  {
   "cell_type": "code",
   "execution_count": 6,
   "id": "c86a9427",
   "metadata": {},
   "outputs": [],
   "source": [
    "df= df.dropna()"
   ]
  },
  {
   "cell_type": "code",
   "execution_count": 7,
   "id": "49979692",
   "metadata": {},
   "outputs": [
    {
     "data": {
      "text/plain": [
       "PRODUCT_ID         0\n",
       "TITLE              0\n",
       "BULLET_POINTS      0\n",
       "DESCRIPTION        0\n",
       "PRODUCT_TYPE_ID    0\n",
       "PRODUCT_LENGTH     0\n",
       "dtype: int64"
      ]
     },
     "execution_count": 7,
     "metadata": {},
     "output_type": "execute_result"
    }
   ],
   "source": [
    "df.isnull().sum()"
   ]
  },
  {
   "cell_type": "code",
   "execution_count": 5,
   "id": "215eb8e1",
   "metadata": {},
   "outputs": [
    {
     "name": "stdout",
     "output_type": "stream",
     "text": [
      "<class 'pandas.core.frame.DataFrame'>\n",
      "RangeIndex: 734736 entries, 0 to 734735\n",
      "Data columns (total 5 columns):\n",
      " #   Column           Non-Null Count   Dtype \n",
      "---  ------           --------------   ----- \n",
      " 0   PRODUCT_ID       734736 non-null  int64 \n",
      " 1   TITLE            734731 non-null  object\n",
      " 2   BULLET_POINTS    458814 non-null  object\n",
      " 3   DESCRIPTION      354735 non-null  object\n",
      " 4   PRODUCT_TYPE_ID  734736 non-null  int64 \n",
      "dtypes: int64(2), object(3)\n",
      "memory usage: 28.0+ MB\n"
     ]
    },
    {
     "data": {
      "text/plain": [
       "PRODUCT_ID              0\n",
       "TITLE                   5\n",
       "BULLET_POINTS      275922\n",
       "DESCRIPTION        380001\n",
       "PRODUCT_TYPE_ID         0\n",
       "dtype: int64"
      ]
     },
     "execution_count": 5,
     "metadata": {},
     "output_type": "execute_result"
    }
   ],
   "source": [
    "test_df = pd.read_csv('test.csv')\n",
    "test_df.info()\n",
    "test_df.isnull().sum()"
   ]
  },
  {
   "cell_type": "code",
   "execution_count": 6,
   "id": "dc38cd78",
   "metadata": {},
   "outputs": [],
   "source": [
    "test_df = test_df.fillna(test_df.mode().iloc[0])"
   ]
  },
  {
   "cell_type": "code",
   "execution_count": 7,
   "id": "7124c43a",
   "metadata": {},
   "outputs": [
    {
     "data": {
      "text/plain": [
       "PRODUCT_ID         0\n",
       "TITLE              0\n",
       "BULLET_POINTS      0\n",
       "DESCRIPTION        0\n",
       "PRODUCT_TYPE_ID    0\n",
       "dtype: int64"
      ]
     },
     "execution_count": 7,
     "metadata": {},
     "output_type": "execute_result"
    }
   ],
   "source": [
    "test_df.isnull().sum()"
   ]
  },
  {
   "cell_type": "code",
   "execution_count": 8,
   "id": "5718362a",
   "metadata": {},
   "outputs": [],
   "source": [
    "df['title_length'] = df['TITLE'].apply(len)\n",
    "df['bullet_points_length'] = df['BULLET_POINTS'].apply(lambda x: len(x.split(',')))\n",
    "test_df['title_length'] = test_df['TITLE'].apply(len)\n",
    "test_df['bullet_points_length'] = test_df['BULLET_POINTS'].apply(lambda x: len(x.split(',')))"
   ]
  },
  {
   "cell_type": "code",
   "execution_count": 9,
   "id": "13d20bff",
   "metadata": {},
   "outputs": [
    {
     "name": "stderr",
     "output_type": "stream",
     "text": [
      "C:\\Users\\anshs\\AppData\\Local\\Programs\\Python\\Python310\\lib\\site-packages\\xgboost\\sklearn.py:835: UserWarning: `early_stopping_rounds` in `fit` method is deprecated for better compatibility with scikit-learn, use `early_stopping_rounds` in constructor or`set_params` instead.\n",
      "  warnings.warn(\n"
     ]
    }
   ],
   "source": [
    "X_train, X_val, y_train, y_val = train_test_split(df[['title_length', 'bullet_points_length', 'PRODUCT_TYPE_ID']], df['PRODUCT_LENGTH'], test_size=0.2, random_state=42)\n",
    "\n",
    "\n",
    "# Define the model\n",
    "model = xgb.XGBRegressor(n_estimators=1000, learning_rate=0.05, max_depth=8, subsample=0.8, colsample_bytree=0.8, gamma=0.01)\n",
    "\n",
    "# Train the model\n",
    "model.fit(X_train, y_train, eval_set=[(X_val, y_val)], early_stopping_rounds=50, verbose=False)\n",
    "test_predictions = model.predict(test_df[['title_length', 'bullet_points_length', 'PRODUCT_TYPE_ID']])"
   ]
  },
  {
   "cell_type": "code",
   "execution_count": 10,
   "id": "94337fe9",
   "metadata": {},
   "outputs": [],
   "source": [
    "submission_df = pd.DataFrame({'PRODUCT_ID': test_df['PRODUCT_ID'], 'PRODUCT_LENGTH': test_predictions})\n",
    "submission_df.to_csv('submission.csv', index=False)"
   ]
  },
  {
   "cell_type": "code",
   "execution_count": 11,
   "id": "474fa61e",
   "metadata": {},
   "outputs": [
    {
     "name": "stdout",
     "output_type": "stream",
     "text": [
      "Mean Absolute Percentage Error on validation set: 1.6476842301240713\n"
     ]
    }
   ],
   "source": [
    "y_val_pred = model.predict(X_val)\n",
    "mape = mean_absolute_percentage_error(y_val, y_val_pred)\n",
    "print('Mean Absolute Percentage Error on validation set:', mape)"
   ]
  },
  {
   "cell_type": "code",
   "execution_count": 12,
   "id": "5c4357ef",
   "metadata": {},
   "outputs": [
    {
     "name": "stdout",
     "output_type": "stream",
     "text": [
      "<class 'pandas.core.frame.DataFrame'>\n",
      "RangeIndex: 734736 entries, 0 to 734735\n",
      "Data columns (total 2 columns):\n",
      " #   Column          Non-Null Count   Dtype  \n",
      "---  ------          --------------   -----  \n",
      " 0   PRODUCT_ID      734736 non-null  int64  \n",
      " 1   PRODUCT_LENGTH  734736 non-null  float64\n",
      "dtypes: float64(1), int64(1)\n",
      "memory usage: 11.2 MB\n"
     ]
    }
   ],
   "source": [
    "df_s = pd.read_csv('submission.csv')\n",
    "df_s.info()\n"
   ]
  },
  {
   "cell_type": "code",
   "execution_count": null,
   "id": "2914fc55",
   "metadata": {},
   "outputs": [
    {
     "name": "stdout",
     "output_type": "stream",
     "text": [
      "Fitting 5 folds for each of 243 candidates, totalling 1215 fits\n"
     ]
    },
    {
     "name": "stderr",
     "output_type": "stream",
     "text": [
      "C:\\Users\\anshs\\AppData\\Local\\Programs\\Python\\Python310\\lib\\site-packages\\joblib\\externals\\loky\\process_executor.py:700: UserWarning: A worker stopped while some jobs were given to the executor. This can be caused by a too short worker timeout or by a memory leak.\n",
      "  warnings.warn(\n"
     ]
    }
   ],
   "source": [
    "\n",
    "from xgboost import XGBRegressor\n",
    "from sklearn.model_selection import GridSearchCV, train_test_split\n",
    "from sklearn.metrics import mean_absolute_percentage_error\n",
    "\n",
    "\n",
    "# Prepare the feature matrix X and target variable y\n",
    "X = df[['TITLE', 'DESCRIPTION', 'BULLET_POINTS', 'PRODUCT_TYPE_ID']]\n",
    "y = df['PRODUCT_LENGTH']\n",
    "\n",
    "# Split the data into train and validation sets\n",
    "X_train, X_val, y_train, y_val = train_test_split(X, y, test_size=0.2, random_state=42)\n",
    "\n",
    "# Define the model\n",
    "xgb = XGBRegressor()\n",
    "\n",
    "# Define the hyperparameters to search\n",
    "params = {\n",
    "    'max_depth': [3, 4, 5],\n",
    "    'n_estimators': [100, 200, 300],\n",
    "    'learning_rate': [0.1, 0.2, 0.3],\n",
    "    'subsample': [0.5, 0.7, 1],\n",
    "    'colsample_bytree': [0.5, 0.7, 1]\n",
    "}\n",
    "\n",
    "# Define the GridSearchCV object\n",
    "grid_search = GridSearchCV(estimator=xgb, param_grid=params, cv=5, n_jobs=-1, verbose=2)\n",
    "\n",
    "# Fit the GridSearchCV object on the training data\n",
    "grid_search.fit(X_train, y_train)\n",
    "\n",
    "# Print the best hyperparameters and the corresponding score\n",
    "print(\"Best hyperparameters: \", grid_search.best_params_)\n",
    "print(\"Best score: \", grid_search.best_score_)\n",
    "\n",
    "# Evaluate the model on the validation set using the best hyperparameters\n",
    "best_xgb = grid_search.best_estimator_\n",
    "y_pred = best_xgb.predict(X_val)\n",
    "score = max(0, 100*(1-mean_absolute_percentage_error(y_val, y_pred)))\n",
    "print(\"Validation score: \", score)\n"
   ]
  },
  {
   "cell_type": "code",
   "execution_count": null,
   "id": "87b262d3",
   "metadata": {},
   "outputs": [],
   "source": []
  }
 ],
 "metadata": {
  "kernelspec": {
   "display_name": "Python 3 (ipykernel)",
   "language": "python",
   "name": "python3"
  },
  "language_info": {
   "codemirror_mode": {
    "name": "ipython",
    "version": 3
   },
   "file_extension": ".py",
   "mimetype": "text/x-python",
   "name": "python",
   "nbconvert_exporter": "python",
   "pygments_lexer": "ipython3",
   "version": "3.10.8"
  }
 },
 "nbformat": 4,
 "nbformat_minor": 5
}
